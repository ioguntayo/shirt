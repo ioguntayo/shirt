{
 "cells": [
  {
   "cell_type": "code",
   "execution_count": 1,
   "id": "f32ac4fe",
   "metadata": {},
   "outputs": [
    {
     "data": {
      "text/plain": [
       "16"
      ]
     },
     "execution_count": 1,
     "metadata": {},
     "output_type": "execute_result"
    }
   ],
   "source": [
    "def nearest_square(num):\n",
    "    root = 0\n",
    "    while (root + 1) ** 2 <= num:\n",
    "        root += 1\n",
    "    return root ** 2a\n",
    "\n",
    "\n",
    "nearest_square(22)\n"
   ]
  },
  {
   "cell_type": "code",
   "execution_count": 4,
   "id": "f160c545",
   "metadata": {},
   "outputs": [],
   "source": [
    "def test_nearest_square_5():\n",
    "    assert(nearest_square(5) == 4)\n",
    "    \n",
    "def test_nearest_square_12():\n",
    "    assert(nearest_square(12) == 9)"
   ]
  },
  {
   "cell_type": "code",
   "execution_count": null,
   "id": "0794d763",
   "metadata": {},
   "outputs": [],
   "source": []
  }
 ],
 "metadata": {
  "kernelspec": {
   "display_name": "Python 3 (ipykernel)",
   "language": "python",
   "name": "python3"
  },
  "language_info": {
   "codemirror_mode": {
    "name": "ipython",
    "version": 3
   },
   "file_extension": ".py",
   "mimetype": "text/x-python",
   "name": "python",
   "nbconvert_exporter": "python",
   "pygments_lexer": "ipython3",
   "version": "3.9.12"
  }
 },
 "nbformat": 4,
 "nbformat_minor": 5
}
